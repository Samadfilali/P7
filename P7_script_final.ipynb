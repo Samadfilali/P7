{
 "cells": [
  {
   "cell_type": "markdown",
   "metadata": {},
   "source": [
    "> __**** Projet 7 : Détectez les Bad Buzz grâce au Deep Learning ****__\n",
    "\n"
   ]
  },
  {
   "cell_type": "markdown",
   "metadata": {},
   "source": [
    "Ce projet consiste à créer un produit IA permettant d’anticiper les bad buzz sur les réseaux sociaux.\n",
    "Il doit être capable de prédire le sentiment associé à chaque commentaire ou tweet"
   ]
  },
  {
   "cell_type": "markdown",
   "metadata": {},
   "source": [
    "Nous allons présenter ici 3 approches :\n",
    "   \n",
    "- approche “API sur étagère” en utilisant l’API du service cognitif proposé par Microsoft Azure pour l’analyse de sentiment.\n",
    "\n",
    "- approche “Modèle sur mesure simple” en utilisant le service Azure Machine Learning Studio pour développer rapidement un modèle classique (ex : régression logistique) permettant de prédire le sentiment associé à un tweet.(voir le modèle ML) studio\n",
    "\n",
    "- approche “Modèle sur mesure avancé” en utilisant le service Azure Machine Learning pour développer un modèle basé sur des réseaux de neurones profonds pour prédire le sentiment associé à un tweet."
   ]
  },
  {
   "cell_type": "code",
   "execution_count": 30,
   "metadata": {},
   "outputs": [],
   "source": [
    "from numpy import array\n",
    "from keras.preprocessing.text import one_hot\n",
    "from keras.preprocessing.sequence import pad_sequences\n",
    "from keras.models import Sequential\n",
    "from keras.models import load_model\n",
    "from keras.layers import Dense, Dropout,Bidirectional,LSTM\n",
    "from keras.losses import BinaryCrossentropy\n",
    "from keras.optimizers import Adam\n",
    "\n",
    "from keras.layers import Flatten\n",
    "from keras.layers.embeddings import Embedding\n",
    "\n",
    "import numpy as np\n",
    "import pandas as pd\n",
    "import os\n",
    "import json\n",
    "import timeit\n",
    "import re\n",
    "from keras.datasets import imdb\n",
    "from nltk.corpus import stopwords\n",
    "\n",
    "top_words = 10000"
   ]
  },
  {
   "cell_type": "markdown",
   "metadata": {},
   "source": [
    "# Préparation des données"
   ]
  },
  {
   "cell_type": "markdown",
   "metadata": {},
   "source": [
    "## Lecture et chargement du fichier "
   ]
  },
  {
   "cell_type": "code",
   "execution_count": 2,
   "metadata": {},
   "outputs": [],
   "source": [
    "DF=pd.read_csv('Data_P7.csv')"
   ]
  },
  {
   "cell_type": "code",
   "execution_count": 3,
   "metadata": {},
   "outputs": [
    {
     "data": {
      "text/html": [
       "<style  type=\"text/css\" >\n",
       "    #T_b96e233e_4769_11eb_a6a3_93a5186b1fe1 th {\n",
       "          background: #7CAE00;\n",
       "          color: white;\n",
       "          font-family: verdana;\n",
       "    }    #T_b96e233e_4769_11eb_a6a3_93a5186b1fe1 td {\n",
       "          font-family: verdana;\n",
       "    }    #T_b96e233e_4769_11eb_a6a3_93a5186b1fe1 tr:nth-of-type(odd) {\n",
       "          background: #DCDCDC;\n",
       "    }    #T_b96e233e_4769_11eb_a6a3_93a5186b1fe1 tr:nth-of-type(even) {\n",
       "          background: white;\n",
       "    }    #T_b96e233e_4769_11eb_a6a3_93a5186b1fe1 tr:hover {\n",
       "          background-color: yellow;\n",
       "    }</style><table id=\"T_b96e233e_4769_11eb_a6a3_93a5186b1fe1\" ><thead>    <tr>        <th class=\"col_heading level0 col0\" >Label</th>        <th class=\"col_heading level0 col1\" >Text</th>    </tr></thead><tbody>\n",
       "                <tr>\n",
       "                                <td id=\"T_b96e233e_4769_11eb_a6a3_93a5186b1fe1row0_col0\" class=\"data row0 col0\" >0</td>\n",
       "                        <td id=\"T_b96e233e_4769_11eb_a6a3_93a5186b1fe1row0_col1\" class=\"data row0 col1\" >is upset that he can't update his Facebook by texting it... and might cry as a result  School today also. Blah!</td>\n",
       "            </tr>\n",
       "            <tr>\n",
       "                                <td id=\"T_b96e233e_4769_11eb_a6a3_93a5186b1fe1row1_col0\" class=\"data row1 col0\" >0</td>\n",
       "                        <td id=\"T_b96e233e_4769_11eb_a6a3_93a5186b1fe1row1_col1\" class=\"data row1 col1\" >@Kenichan I dived many times for the ball. Managed to save 50%  The rest go out of bounds</td>\n",
       "            </tr>\n",
       "            <tr>\n",
       "                                <td id=\"T_b96e233e_4769_11eb_a6a3_93a5186b1fe1row2_col0\" class=\"data row2 col0\" >0</td>\n",
       "                        <td id=\"T_b96e233e_4769_11eb_a6a3_93a5186b1fe1row2_col1\" class=\"data row2 col1\" >my whole body feels itchy and like its on fire </td>\n",
       "            </tr>\n",
       "            <tr>\n",
       "                                <td id=\"T_b96e233e_4769_11eb_a6a3_93a5186b1fe1row3_col0\" class=\"data row3 col0\" >0</td>\n",
       "                        <td id=\"T_b96e233e_4769_11eb_a6a3_93a5186b1fe1row3_col1\" class=\"data row3 col1\" >@nationwideclass no, it's not behaving at all. i'm mad. why am i here? because I can't see you all over there. </td>\n",
       "            </tr>\n",
       "            <tr>\n",
       "                                <td id=\"T_b96e233e_4769_11eb_a6a3_93a5186b1fe1row4_col0\" class=\"data row4 col0\" >0</td>\n",
       "                        <td id=\"T_b96e233e_4769_11eb_a6a3_93a5186b1fe1row4_col1\" class=\"data row4 col1\" >@Kwesidei not the whole crew </td>\n",
       "            </tr>\n",
       "            <tr>\n",
       "                                <td id=\"T_b96e233e_4769_11eb_a6a3_93a5186b1fe1row5_col0\" class=\"data row5 col0\" >0</td>\n",
       "                        <td id=\"T_b96e233e_4769_11eb_a6a3_93a5186b1fe1row5_col1\" class=\"data row5 col1\" >Need a hug </td>\n",
       "            </tr>\n",
       "            <tr>\n",
       "                                <td id=\"T_b96e233e_4769_11eb_a6a3_93a5186b1fe1row6_col0\" class=\"data row6 col0\" >0</td>\n",
       "                        <td id=\"T_b96e233e_4769_11eb_a6a3_93a5186b1fe1row6_col1\" class=\"data row6 col1\" >@LOLTrish hey  long time no see! Yes.. Rains a bit ,only a bit  LOL , I'm fine thanks , how's you ?</td>\n",
       "            </tr>\n",
       "            <tr>\n",
       "                                <td id=\"T_b96e233e_4769_11eb_a6a3_93a5186b1fe1row7_col0\" class=\"data row7 col0\" >0</td>\n",
       "                        <td id=\"T_b96e233e_4769_11eb_a6a3_93a5186b1fe1row7_col1\" class=\"data row7 col1\" >@Tatiana_K nope they didn't have it </td>\n",
       "            </tr>\n",
       "            <tr>\n",
       "                                <td id=\"T_b96e233e_4769_11eb_a6a3_93a5186b1fe1row8_col0\" class=\"data row8 col0\" >0</td>\n",
       "                        <td id=\"T_b96e233e_4769_11eb_a6a3_93a5186b1fe1row8_col1\" class=\"data row8 col1\" >@twittera que me muera ? </td>\n",
       "            </tr>\n",
       "            <tr>\n",
       "                                <td id=\"T_b96e233e_4769_11eb_a6a3_93a5186b1fe1row9_col0\" class=\"data row9 col0\" >0</td>\n",
       "                        <td id=\"T_b96e233e_4769_11eb_a6a3_93a5186b1fe1row9_col1\" class=\"data row9 col1\" >spring break in plain city... it's snowing </td>\n",
       "            </tr>\n",
       "    </tbody></table>"
      ],
      "text/plain": [
       "<pandas.io.formats.style.Styler at 0x26a0edd94c0>"
      ]
     },
     "execution_count": 3,
     "metadata": {},
     "output_type": "execute_result"
    }
   ],
   "source": [
    "# showing the list of data cleanning operation\n",
    "DF.head(10).style.set_table_styles(\n",
    "[{'selector': 'th',\n",
    "  'props': [('background', '#7CAE00'), \n",
    "            ('color', 'white'),\n",
    "            ('font-family', 'verdana')]},\n",
    " \n",
    " {'selector': 'td',\n",
    "  'props': [('font-family', 'verdana')]},\n",
    "\n",
    " {'selector': 'tr:nth-of-type(odd)',\n",
    "  'props': [('background', '#DCDCDC')]}, \n",
    " \n",
    " {'selector': 'tr:nth-of-type(even)',\n",
    "  'props': [('background', 'white')]},\n",
    " \n",
    " {'selector': 'tr:hover',\n",
    "  'props': [('background-color', 'yellow')]}\n",
    "\n",
    "]\n",
    ").hide_index()"
   ]
  },
  {
   "cell_type": "markdown",
   "metadata": {},
   "source": [
    "## Nettoyage des documents"
   ]
  },
  {
   "cell_type": "code",
   "execution_count": 4,
   "metadata": {},
   "outputs": [],
   "source": [
    "# Suppression de tous les mots commençant par '@', les numeriques et les stopwords\n",
    "from nltk.stem.wordnet import WordNetLemmatizer\n",
    "import re\n",
    "\n",
    "lemmatizer = WordNetLemmatizer()\n",
    "\n",
    "def clean_word(review_text) :\n",
    "        # Clean the word\n",
    "    review_text = re.sub(r\"[^A-Za-z0-9(),!.?\\'\\`]\", \" \", review_text)\n",
    "    review_text = re.sub(r\"\\'s\", \" \", review_text)\n",
    "    review_text = re.sub(r\"\\'ve\", \" \", review_text)\n",
    "    review_text = re.sub(r\"\\'re\", \" \", review_text)\n",
    "    review_text = re.sub(r\"\\'d\", \" \", review_text)\n",
    "    review_text = re.sub(r\"\\'ll\", \" \", review_text)\n",
    "    review_text = re.sub(r\",\", \" \", review_text)\n",
    "    review_text = re.sub(r\"\\.\", \" \", review_text)\n",
    "    review_text = re.sub(r\"!\", \" \", review_text)\n",
    "    review_text = re.sub(r\"\\(\", \" ( \", review_text)\n",
    "    review_text = re.sub(r\"\\)\", \" ) \", review_text)\n",
    "    review_text = re.sub(r\"\\?\", \" \", review_text)\n",
    "    review_text = re.sub(r\"\\s{2,}\", \" \", review_text)\n",
    "    \n",
    "    return review_text.lower()\n",
    "\n",
    "def cleaning_text(text) :\n",
    "    vect_text = text.split()  # Split into words.\n",
    "    vect_text = [token for token in vect_text if ((not token.startswith('@')) and (not token.isnumeric())) and (not (token in stopwords.words('english')))] \n",
    "    vect_text =[clean_word(token) for token in vect_text]\n",
    "    vect_text =[token for token in vect_text if len(token) > 1]\n",
    "    vect_text = [lemmatizer.lemmatize(token) for token in vect_text]\n",
    "    text = ' '.join(token for token in vect_text)\n",
    "    return text"
   ]
  },
  {
   "cell_type": "code",
   "execution_count": 5,
   "metadata": {},
   "outputs": [
    {
     "name": "stdout",
     "output_type": "stream",
     "text": [
      "time :  5341.467709699999\n"
     ]
    }
   ],
   "source": [
    "start_time = timeit.default_timer()\n",
    "\n",
    "DF['Text']=DF['Text'].apply(cleaning_text)\n",
    "\n",
    "elapsed = timeit.default_timer() - start_time\n",
    "print(\"time : \",elapsed)"
   ]
  },
  {
   "cell_type": "code",
   "execution_count": 6,
   "metadata": {},
   "outputs": [],
   "source": [
    "docs=DF['Text'].values"
   ]
  },
  {
   "cell_type": "markdown",
   "metadata": {},
   "source": [
    "## Constitution des dataset d'entrainement et de test"
   ]
  },
  {
   "cell_type": "code",
   "execution_count": 7,
   "metadata": {},
   "outputs": [],
   "source": [
    "Labels=[1 if (x>0) else 0 for x in DF['Label']]"
   ]
  },
  {
   "cell_type": "code",
   "execution_count": 8,
   "metadata": {},
   "outputs": [],
   "source": [
    "from sklearn import model_selection\n",
    "X_train, X_test, y_train, y_test = model_selection.train_test_split(docs, Labels, test_size=0.3 ) # 30% des données dans le jeu de test\n"
   ]
  },
  {
   "cell_type": "markdown",
   "metadata": {},
   "source": [
    "# Approche I : “API sur étagère” "
   ]
  },
  {
   "cell_type": "markdown",
   "metadata": {},
   "source": [
    "approche “API sur étagère” utilisant l’API du service cognitif proposé par Microsoft Azure pour l’analyse de sentiment."
   ]
  },
  {
   "cell_type": "code",
   "execution_count": 33,
   "metadata": {},
   "outputs": [],
   "source": [
    "from azure.core.credentials import AzureKeyCredential\n",
    "from azure.ai.textanalytics import TextAnalyticsClient\n"
   ]
  },
  {
   "cell_type": "code",
   "execution_count": 41,
   "metadata": {},
   "outputs": [],
   "source": [
    "DF_I=pd.read_csv('Data_P7.csv')"
   ]
  },
  {
   "cell_type": "code",
   "execution_count": 42,
   "metadata": {},
   "outputs": [],
   "source": [
    "Labels=[1 if (x>0) else 0 for x in DF['Label']]"
   ]
  },
  {
   "cell_type": "code",
   "execution_count": 43,
   "metadata": {},
   "outputs": [],
   "source": [
    "from sklearn import model_selection\n",
    "XI_train, XI_test, yI_train, yI_test = model_selection.train_test_split(DF_I['Text'], Labels, test_size=0.3 ) # 30% des données dans le jeu de test\n"
   ]
  },
  {
   "cell_type": "code",
   "execution_count": 47,
   "metadata": {},
   "outputs": [],
   "source": [
    "#récupération des clés du service Azure \n",
    "# la clé est dans un fichier sous cette forme\n",
    "#------------------------\n",
    "#KEY;ENDPOINT\n",
    "#XXXXXXXXXXX;YYYYYYYYYYYY\n",
    "#------------------------\n",
    "\n",
    "Cles_Connexion = pd.read_csv(\"cles_connexion_azure.csv\",sep=';')\n",
    "subscription_key = Cles_Connexion[\"KEY\"][0]\n",
    "credential = AzureKeyCredential(subscription_key)\n",
    "endpoint =Cles_Connexion[\"ENDPOINT\"][0]"
   ]
  },
  {
   "cell_type": "code",
   "execution_count": 57,
   "metadata": {},
   "outputs": [
    {
     "name": "stdout",
     "output_type": "stream",
     "text": [
      "Overall sentiment: negative\n",
      "Scores: positive=0.04; neutral=0.21; negative=0.75 \n",
      "\n",
      "Overall sentiment: negative\n",
      "Scores: positive=0.0; neutral=0.0; negative=1.0 \n",
      "\n",
      "Overall sentiment: neutral\n",
      "Scores: positive=0.08; neutral=0.85; negative=0.07 \n",
      "\n",
      "Overall sentiment: positive\n",
      "Scores: positive=0.97; neutral=0.02; negative=0.01 \n",
      "\n",
      "Overall sentiment: positive\n",
      "Scores: positive=1.0; neutral=0.0; negative=0.0 \n",
      "\n",
      "Overall sentiment: negative\n",
      "Scores: positive=0.05; neutral=0.0; negative=0.95 \n",
      "\n",
      "Overall sentiment: positive\n",
      "Scores: positive=0.96; neutral=0.04; negative=0.0 \n",
      "\n",
      "Overall sentiment: neutral\n",
      "Scores: positive=0.12; neutral=0.83; negative=0.05 \n",
      "\n",
      "Overall sentiment: neutral\n",
      "Scores: positive=0.3; neutral=0.45; negative=0.25 \n",
      "\n",
      "Overall sentiment: neutral\n",
      "Scores: positive=0.06; neutral=0.89; negative=0.05 \n",
      "\n",
      "[0, 0, 1, 1, 1, 0, 1, 1, 0, 1]\n"
     ]
    }
   ],
   "source": [
    "text_analytics_client = TextAnalyticsClient(endpoint, credential)\n",
    "\n",
    "documents = [\n",
    "    \"I did not like the restaurant. The food was too spicy.\",\n",
    "    \"The restaurant was decorated beautifully. The atmosphere was unlike any other restaurant I've been to.\",\n",
    "    \"The food was yummy. :)\"\n",
    "]\n",
    "\n",
    "response = text_analytics_client.analyze_sentiment(list(XI_test[:10].values), language=\"en\")\n",
    "result = [doc for doc in response if not doc.is_error]\n",
    "scores=[]\n",
    "i=0\n",
    "for doc in result:\n",
    "#    print (\"Document N°\",i,\" :\",XI_test[i])\n",
    "    i+=1\n",
    "    if doc.sentiment=='negative' :\n",
    "        s=0\n",
    "    elif doc.sentiment=='positive' :\n",
    "        s=1\n",
    "    else :\n",
    "        if doc.confidence_scores.neutral < 0.5 :\n",
    "            s=0\n",
    "        else :\n",
    "            s=1\n",
    "    scores.append(s)\n",
    "    print(\"Overall sentiment: {}\".format(doc.sentiment))\n",
    "    print(\"Scores: positive={}; neutral={}; negative={} \\n\".format(\n",
    "        doc.confidence_scores.positive,\n",
    "        doc.confidence_scores.neutral,\n",
    "        doc.confidence_scores.negative,\n",
    "    ))\n",
    "\n",
    "print (scores)"
   ]
  },
  {
   "cell_type": "markdown",
   "metadata": {},
   "source": [
    "# Evaluation de l'API"
   ]
  },
  {
   "cell_type": "code",
   "execution_count": 58,
   "metadata": {},
   "outputs": [
    {
     "name": "stdout",
     "output_type": "stream",
     "text": [
      "0.875\n"
     ]
    }
   ],
   "source": [
    "from sklearn.metrics import (roc_curve, auc, accuracy_score)\n",
    "\n",
    "false_positive_rate, true_positive_rate, thresholds = roc_curve(yI_test[:10], scores)\n",
    "roc_auc = auc(false_positive_rate, true_positive_rate) \n",
    "print(roc_auc)"
   ]
  },
  {
   "cell_type": "code",
   "execution_count": 59,
   "metadata": {},
   "outputs": [
    {
     "data": {
      "image/png": "[encoded data removed]",
      "text/plain": [
       "<Figure size 432x288 with 1 Axes>"
      ]
     },
     "metadata": {
      "needs_background": "light"
     },
     "output_type": "display_data"
    }
   ],
   "source": [
    "plt.title('Receiver Operating Characteristic')\n",
    "plt.plot(false_positive_rate,true_positive_rate, color='red',label = 'AUC = %0.2f' % roc_auc)\n",
    "plt.legend(loc = 'lower right')\n",
    "plt.plot([0, 1], [0, 1],linestyle='--')\n",
    "plt.axis('tight')\n",
    "\n",
    "plt.ylabel('True Positive Rate')\n",
    "plt.xlabel('False Positive Rate')\n",
    "plt.show()"
   ]
  },
  {
   "cell_type": "markdown",
   "metadata": {},
   "source": [
    "----------------------------------------------------------------------"
   ]
  },
  {
   "cell_type": "markdown",
   "metadata": {},
   "source": [
    "# Approche III : “Modèle sur mesure avancé” "
   ]
  },
  {
   "cell_type": "markdown",
   "metadata": {},
   "source": [
    "- approche “Modèle sur mesure avancé” en utilisant le service Azure Machine Learning pour développer un modèle basé sur des réseaux de neurones profonds pour prédire le sentiment associé à un tweet.\n",
    "\n",
    "Pour cette partie nous allons tester deux modèles avec des word-embeddings differents :\n",
    "\n",
    "        - un modèle RNN bidirectionnel LSTM avec Embedding  Keras par défaut\n",
    "        - un modèle RNN bidirectionnel LSTM avec Embedding Glove"
   ]
  },
  {
   "cell_type": "markdown",
   "metadata": {},
   "source": [
    "## Encodage et padding des textes"
   ]
  },
  {
   "cell_type": "code",
   "execution_count": 9,
   "metadata": {},
   "outputs": [],
   "source": [
    "from keras.layers.experimental.preprocessing import TextVectorization"
   ]
  },
  {
   "cell_type": "code",
   "execution_count": 10,
   "metadata": {},
   "outputs": [],
   "source": [
    "VOCAB_SIZE=100000\n",
    "#encoder = TextVectorization(max_tokens=VOCAB_SIZE)\n",
    "encoder = TextVectorization()"
   ]
  },
  {
   "cell_type": "code",
   "execution_count": 11,
   "metadata": {},
   "outputs": [],
   "source": [
    "encoder.adapt(docs)"
   ]
  },
  {
   "cell_type": "markdown",
   "metadata": {},
   "source": [
    "## Construction d'un modèle RNN bidirectionnel LSTM avec Embedding Keras par défaut"
   ]
  },
  {
   "cell_type": "code",
   "execution_count": 12,
   "metadata": {},
   "outputs": [],
   "source": [
    "model = Sequential([\n",
    "    encoder,\n",
    "    Embedding(\n",
    "        input_dim=len(encoder.get_vocabulary()),\n",
    "        output_dim=64,\n",
    "        mask_zero=True),\n",
    "    Bidirectional(LSTM(64)),\n",
    "    Dense(64, activation='relu'),\n",
    "    Dense(1)\n",
    "])"
   ]
  },
  {
   "cell_type": "code",
   "execution_count": 13,
   "metadata": {},
   "outputs": [],
   "source": [
    "model.compile(loss=BinaryCrossentropy(from_logits=True),\n",
    "              optimizer=Adam(1e-4),\n",
    "              metrics=['accuracy'])"
   ]
  },
  {
   "cell_type": "code",
   "execution_count": 14,
   "metadata": {},
   "outputs": [
    {
     "name": "stdout",
     "output_type": "stream",
     "text": [
      "Epoch 1/2\n",
      "8750/8750 [==============================] - 3024s 346ms/step - loss: 0.4734 - accuracy: 0.7588 - val_loss: 0.4529 - val_accuracy: 0.7738\n",
      "Epoch 2/2\n",
      "8750/8750 [==============================] - 2982s 341ms/step - loss: 0.4279 - accuracy: 0.7921 - val_loss: 0.4463 - val_accuracy: 0.7813\n",
      "time :  6034.919294999999\n"
     ]
    }
   ],
   "source": [
    "start_time = timeit.default_timer()\n",
    "\n",
    "hist_new=model.fit(X_train, np.array(y_train), validation_data=(X_test, np.array(y_test)), epochs=2, batch_size=128)\n",
    "\n",
    "elapsed = timeit.default_timer() - start_time\n",
    "print(\"time : \",elapsed)"
   ]
  },
  {
   "cell_type": "markdown",
   "metadata": {},
   "source": [
    "## Evaluation du modèle"
   ]
  },
  {
   "cell_type": "code",
   "execution_count": 15,
   "metadata": {},
   "outputs": [
    {
     "name": "stdout",
     "output_type": "stream",
     "text": [
      "3750/3750 - 41s - loss: 0.4463 - accuracy: 0.7813\n",
      "Test Loss: 0.4463244080543518\n",
      "Test Accuracy: 0.7812749743461609\n"
     ]
    }
   ],
   "source": [
    "test_loss, test_acc = model.evaluate(X_test,np.array(y_test),verbose=2,batch_size=128)\n",
    "\n",
    "print('Test Loss: {}'.format(test_loss))\n",
    "print('Test Accuracy: {}'.format(test_acc))"
   ]
  },
  {
   "cell_type": "code",
   "execution_count": 16,
   "metadata": {},
   "outputs": [
    {
     "data": {
      "text/plain": [
       "(0.0, 0.47566014528274536)"
      ]
     },
     "execution_count": 16,
     "metadata": {},
     "output_type": "execute_result"
    },
    {
     "data": {
      "image/png": "[encoded data removed]",
      "text/plain": [
       "<Figure size 1152x576 with 2 Axes>"
      ]
     },
     "metadata": {
      "needs_background": "light"
     },
     "output_type": "display_data"
    }
   ],
   "source": [
    "#import seaborn as sns\n",
    "import matplotlib.pyplot as plt\n",
    "%matplotlib inline\n",
    "import matplotlib.pyplot as plt\n",
    "\n",
    "def plot_graphs(history, metric):\n",
    "  plt.plot(history.history[metric])\n",
    "  plt.plot(history.history['val_'+metric], '')\n",
    "  plt.xlabel(\"Epochs\")\n",
    "  plt.ylabel(metric)\n",
    "  plt.legend([metric, 'val_'+metric])\n",
    "\n",
    "plt.figure(figsize=(16,8))\n",
    "plt.subplot(1,2,1)\n",
    "plot_graphs(hist_new, 'accuracy')\n",
    "plt.ylim(None,1)\n",
    "plt.subplot(1,2,2)\n",
    "plot_graphs(hist_new, 'loss')\n",
    "plt.ylim(0,None)"
   ]
  },
  {
   "cell_type": "markdown",
   "metadata": {},
   "source": [
    "## Prédiction"
   ]
  },
  {
   "cell_type": "code",
   "execution_count": 17,
   "metadata": {},
   "outputs": [],
   "source": [
    "exemple =[\"I'm happy\",\"In love of this cute boy\",\"the worst restaurant\",\"I'm disapointed about that\",\"The toilets are dirty.. terrible experience\",\"I hate this restaurant\",\"Came for lunch with my sister. We loved our Thai-style mains which were amazing with lots of flavour, very impressive for a vegetarian restaurant.\",\"our visit was not successful. i ended up eating soup and soft foods for over a week due to a broken tooth at this restaurant. the local manager was fine but the senior management had an uncaring attitude. don't expect too much from this restaurant chain if you have problems.\"]"
   ]
  },
  {
   "cell_type": "code",
   "execution_count": 18,
   "metadata": {},
   "outputs": [],
   "source": [
    "predictions = model.predict(exemple)"
   ]
  },
  {
   "cell_type": "code",
   "execution_count": 19,
   "metadata": {},
   "outputs": [
    {
     "data": {
      "text/plain": [
       "array([[ 2.189446  ],\n",
       "       [ 3.9379952 ],\n",
       "       [-2.4621313 ],\n",
       "       [-3.0431445 ],\n",
       "       [-2.3679492 ],\n",
       "       [-1.7109745 ],\n",
       "       [ 4.219369  ],\n",
       "       [-0.38555768]], dtype=float32)"
      ]
     },
     "execution_count": 19,
     "metadata": {},
     "output_type": "execute_result"
    }
   ],
   "source": [
    "predictions"
   ]
  },
  {
   "cell_type": "markdown",
   "metadata": {},
   "source": [
    "## Sauvegarde du modèle RNN à une couche"
   ]
  },
  {
   "cell_type": "code",
   "execution_count": 23,
   "metadata": {},
   "outputs": [
    {
     "name": "stdout",
     "output_type": "stream",
     "text": [
      "WARNING:tensorflow:From c:\\Miniconda\\envs\\py37_default\\lib\\site-packages\\tensorflow\\python\\training\\tracking\\tracking.py:111: Model.state_updates (from tensorflow.python.keras.engine.training) is deprecated and will be removed in a future version.\n",
      "Instructions for updating:\n",
      "This property should not be used in TensorFlow 2.0, as updates are applied automatically.\n",
      "WARNING:tensorflow:From c:\\Miniconda\\envs\\py37_default\\lib\\site-packages\\tensorflow\\python\\training\\tracking\\tracking.py:111: Layer.updates (from tensorflow.python.keras.engine.base_layer) is deprecated and will be removed in a future version.\n",
      "Instructions for updating:\n",
      "This property should not be used in TensorFlow 2.0, as updates are applied automatically.\n",
      "INFO:tensorflow:Assets written to: C:/Users/VM_compte/notebooks/P7/model_RNN\\assets\n",
      "Saved model to disk\n"
     ]
    }
   ],
   "source": [
    "# serialize weights to HDF5\n",
    "model.save(\"C:/Users/VM_compte/notebooks/P7/model_RNN\")\n",
    "print(\"Saved model to disk\")"
   ]
  },
  {
   "cell_type": "markdown",
   "metadata": {},
   "source": [
    "## Utilisation d'un 2éme Embedding : GLOVE"
   ]
  },
  {
   "cell_type": "code",
   "execution_count": 2,
   "metadata": {},
   "outputs": [],
   "source": [
    "DF=pd.read_csv('Data_P7.csv')"
   ]
  },
  {
   "cell_type": "code",
   "execution_count": 3,
   "metadata": {},
   "outputs": [],
   "source": [
    "def clean_text2(text) :\n",
    "    vect_text = text.split()  # Split into words.\n",
    "    vect_text = [token for token in vect_text if ((not token.startswith('@')) and (not token.isnumeric()))] \n",
    "    #    lemmatizer = WordNetLemmatizer()\n",
    "    vect_text =[clean_word(token) for token in vect_text]\n",
    "    vect_text =[token for token in vect_text if len(token) > 1]\n",
    "    vect_text = [lemmatizer.lemmatize(token) for token in vect_text]\n",
    "    text = ' '.join(token for token in vect_text)\n",
    "    return text"
   ]
  },
  {
   "cell_type": "code",
   "execution_count": 6,
   "metadata": {},
   "outputs": [
    {
     "name": "stdout",
     "output_type": "stream",
     "text": [
      "time :  442.68892669999997\n"
     ]
    }
   ],
   "source": [
    "start_time = timeit.default_timer()\n",
    "\n",
    "DF['Text']=DF['Text'].apply(clean_text2)\n",
    "\n",
    "elapsed = timeit.default_timer() - start_time\n",
    "print(\"time : \",elapsed)"
   ]
  },
  {
   "cell_type": "code",
   "execution_count": 7,
   "metadata": {},
   "outputs": [],
   "source": [
    "docs=DF['Text'].values"
   ]
  },
  {
   "cell_type": "code",
   "execution_count": 8,
   "metadata": {},
   "outputs": [],
   "source": [
    "from keras.preprocessing.text import one_hot, Tokenizer\n",
    "# prepare tokenizer\n",
    "t = Tokenizer()\n",
    "t.fit_on_texts(docs)\n",
    "vocab_size = len(t.word_index) + 1\n",
    "# integer encode the documents\n",
    "encoded_docs = t.texts_to_sequences(docs)"
   ]
  },
  {
   "cell_type": "markdown",
   "metadata": {},
   "source": [
    "## Encodage et padding des textes"
   ]
  },
  {
   "cell_type": "code",
   "execution_count": 9,
   "metadata": {},
   "outputs": [],
   "source": [
    "# pad documents to a max length of 100 words\n",
    "max_review_length = 100\n",
    "padded_docs = pad_sequences(encoded_docs, maxlen=max_review_length, padding='post')"
   ]
  },
  {
   "cell_type": "markdown",
   "metadata": {},
   "source": [
    "## Constitution des dataset d'entrainement et de test"
   ]
  },
  {
   "cell_type": "code",
   "execution_count": 10,
   "metadata": {},
   "outputs": [],
   "source": [
    "labels=[1 if (x>0) else 0 for x in DF['Label']]"
   ]
  },
  {
   "cell_type": "code",
   "execution_count": 11,
   "metadata": {},
   "outputs": [],
   "source": [
    "from sklearn import model_selection\n",
    "X_train, X_test, y_train, y_test = model_selection.train_test_split(padded_docs, labels, test_size=0.3 ) # 30% des données dans le jeu de test\n"
   ]
  },
  {
   "cell_type": "markdown",
   "metadata": {},
   "source": [
    "# Création d'un nouveau word Embedding"
   ]
  },
  {
   "cell_type": "code",
   "execution_count": 12,
   "metadata": {},
   "outputs": [
    {
     "name": "stdout",
     "output_type": "stream",
     "text": [
      "Loaded 400000 word vectors.\n"
     ]
    }
   ],
   "source": [
    "# load the whole embedding into memory\n",
    "embeddings_index = dict()\n",
    "f = open('glove.6B.100d.txt',encoding=\"utf8\")\n",
    "for line in f:\n",
    "    values = line.split()\n",
    "    word = values[0]\n",
    "    coefs = np.asarray(values[1:], dtype='float32')\n",
    "    embeddings_index[word] = coefs\n",
    "f.close()\n",
    "print('Loaded %s word vectors.' % len(embeddings_index))"
   ]
  },
  {
   "cell_type": "code",
   "execution_count": 13,
   "metadata": {},
   "outputs": [],
   "source": [
    "# create a weight matrix for words in training docs\n",
    "embedding_matrix = np.zeros((vocab_size, 100))\n",
    "for word, i in t.word_index.items():\n",
    "    embedding_vector = embeddings_index.get(word)\n",
    "    if embedding_vector is not None:\n",
    "        embedding_matrix[i] = embedding_vector\n"
   ]
  },
  {
   "cell_type": "code",
   "execution_count": 14,
   "metadata": {},
   "outputs": [],
   "source": [
    "e = Embedding(vocab_size, 100, weights=[embedding_matrix], input_length=max_review_length, trainable=False)"
   ]
  },
  {
   "cell_type": "markdown",
   "metadata": {},
   "source": [
    "## Construction d'un modèle RNN bidirectionnel LSTM avec Embedding Glove"
   ]
  },
  {
   "cell_type": "code",
   "execution_count": 15,
   "metadata": {},
   "outputs": [
    {
     "name": "stdout",
     "output_type": "stream",
     "text": [
      "Model: \"sequential\"\n",
      "_________________________________________________________________\n",
      "Layer (type)                 Output Shape              Param #   \n",
      "=================================================================\n",
      "embedding (Embedding)        (None, 100, 100)          35400400  \n",
      "_________________________________________________________________\n",
      "bidirectional (Bidirectional (None, 128)               84480     \n",
      "_________________________________________________________________\n",
      "dense (Dense)                (None, 64)                8256      \n",
      "_________________________________________________________________\n",
      "dense_1 (Dense)              (None, 1)                 65        \n",
      "=================================================================\n",
      "Total params: 35,493,201\n",
      "Trainable params: 92,801\n",
      "Non-trainable params: 35,400,400\n",
      "_________________________________________________________________\n",
      "None\n",
      "time :  2.427861099999973\n"
     ]
    }
   ],
   "source": [
    "# Reseau Neuronne normal\n",
    "start_time = timeit.default_timer()\n",
    "\n",
    "embed_dim = 64\n",
    "lstm_out = 128\n",
    "batch_size = 128\n",
    "top_words = 10000\n",
    "\n",
    "\n",
    "model_glove = Sequential([\n",
    "    e,\n",
    "    Bidirectional(LSTM(64)),\n",
    "    Dense(64, activation='relu'),\n",
    "    Dense(1)\n",
    "])\n",
    "\n",
    "print(model_glove.summary())\n",
    "\n",
    "elapsed = timeit.default_timer() - start_time\n",
    "print(\"time : \",elapsed)"
   ]
  },
  {
   "cell_type": "code",
   "execution_count": 16,
   "metadata": {},
   "outputs": [],
   "source": [
    "model_glove.compile(loss='binary_crossentropy',optimizer='adam', metrics=['accuracy'])"
   ]
  },
  {
   "cell_type": "code",
   "execution_count": 17,
   "metadata": {},
   "outputs": [
    {
     "name": "stdout",
     "output_type": "stream",
     "text": [
      "Epoch 1/4\n",
      "8750/8750 [==============================] - 1639s 187ms/step - loss: 0.5662 - accuracy: 0.7110 - val_loss: 0.6378 - val_accuracy: 0.6573\n",
      "Epoch 2/4\n",
      "8750/8750 [==============================] - 1697s 194ms/step - loss: 0.5407 - accuracy: 0.7387 - val_loss: 0.5088 - val_accuracy: 0.7576\n",
      "Epoch 3/4\n",
      "8750/8750 [==============================] - 1695s 194ms/step - loss: 0.4891 - accuracy: 0.7714 - val_loss: 0.4699 - val_accuracy: 0.7814\n",
      "Epoch 4/4\n",
      "8750/8750 [==============================] - 1692s 193ms/step - loss: 0.4963 - accuracy: 0.7707 - val_loss: 0.4758 - val_accuracy: 0.7809\n",
      "time :  6728.5133983000005\n"
     ]
    }
   ],
   "source": [
    "start_time = timeit.default_timer()\n",
    "\n",
    "#Here we train the Network.\n",
    "hist3=model_glove.fit(X_train, np.array(y_train), validation_data=(X_test, np.array(y_test)), epochs=3, batch_size=128)\n",
    "elapsed = timeit.default_timer() - start_time\n",
    "print(\"time : \",elapsed)"
   ]
  },
  {
   "cell_type": "markdown",
   "metadata": {},
   "source": [
    "## Evaluation du modèle"
   ]
  },
  {
   "cell_type": "code",
   "execution_count": 18,
   "metadata": {},
   "outputs": [
    {
     "data": {
      "text/plain": [
       "(0.0, 0.6461744248867035)"
      ]
     },
     "execution_count": 18,
     "metadata": {},
     "output_type": "execute_result"
    },
    {
     "data": {
      "image/png": "[encoded data removed]",
      "text/plain": [
       "<Figure size 1152x576 with 2 Axes>"
      ]
     },
     "metadata": {
      "needs_background": "light"
     },
     "output_type": "display_data"
    }
   ],
   "source": [
    "import matplotlib.pyplot as plt\n",
    "%matplotlib inline\n",
    "import matplotlib.pyplot as plt\n",
    "\n",
    "def plot_graphs(history, metric):\n",
    "  plt.plot(history.history[metric])\n",
    "  plt.plot(history.history['val_'+metric], '')\n",
    "  plt.xlabel(\"Epochs\")\n",
    "  plt.ylabel(metric)\n",
    "  plt.legend([metric, 'val_'+metric])\n",
    "\n",
    "plt.figure(figsize=(16,8))\n",
    "plt.subplot(1,2,1)\n",
    "plot_graphs(hist3, 'accuracy')\n",
    "plt.ylim(None,1)\n",
    "plt.subplot(1,2,2)\n",
    "plot_graphs(hist3, 'loss')\n",
    "plt.ylim(0,None)"
   ]
  },
  {
   "cell_type": "code",
   "execution_count": 19,
   "metadata": {},
   "outputs": [
    {
     "name": "stdout",
     "output_type": "stream",
     "text": [
      "3750/3750 - 196s - loss: 0.4758 - accuracy: 0.7809\n"
     ]
    }
   ],
   "source": [
    "score, acc = model_glove.evaluate(X_test,np.array(y_test),verbose=2,batch_size=128)"
   ]
  },
  {
   "cell_type": "code",
   "execution_count": 20,
   "metadata": {},
   "outputs": [
    {
     "name": "stdout",
     "output_type": "stream",
     "text": [
      "Score : 0.48\n",
      "Validation Accuracy : 0.78\n"
     ]
    }
   ],
   "source": [
    "print (\"Score : %.2f\" %(score))\n",
    "print (\"Validation Accuracy : %.2f\" %(acc))"
   ]
  },
  {
   "cell_type": "code",
   "execution_count": null,
   "metadata": {},
   "outputs": [],
   "source": []
  }
 ],
 "metadata": {
  "kernelspec": {
   "display_name": "Python 3",
   "language": "python",
   "name": "python3"
  },
  "language_info": {
   "codemirror_mode": {
    "name": "ipython",
    "version": 3
   },
   "file_extension": ".py",
   "mimetype": "text/x-python",
   "name": "python",
   "nbconvert_exporter": "python",
   "pygments_lexer": "ipython3",
   "version": "3.8.5"
  },
  "toc": {
   "base_numbering": 1,
   "nav_menu": {},
   "number_sections": true,
   "sideBar": true,
   "skip_h1_title": false,
   "title_cell": "Table of Contents",
   "title_sidebar": "Contents",
   "toc_cell": false,
   "toc_position": {},
   "toc_section_display": true,
   "toc_window_display": false
  },
  "varInspector": {
   "cols": {
    "lenName": 16,
    "lenType": 16,
    "lenVar": 40
   },
   "kernels_config": {
    "python": {
     "delete_cmd_postfix": "",
     "delete_cmd_prefix": "del ",
     "library": "var_list.py",
     "varRefreshCmd": "print(var_dic_list())"
    },
    "r": {
     "delete_cmd_postfix": ") ",
     "delete_cmd_prefix": "rm(",
     "library": "var_list.r",
     "varRefreshCmd": "cat(var_dic_list()) "
    }
   },
   "types_to_exclude": [
    "module",
    "function",
    "builtin_function_or_method",
    "instance",
    "_Feature"
   ],
   "window_display": false
  }
 },
 "nbformat": 4,
 "nbformat_minor": 4
}
